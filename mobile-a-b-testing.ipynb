{
 "cells": [
  {
   "cell_type": "code",
   "execution_count": 1,
   "id": "ed539f4f",
   "metadata": {
    "_cell_guid": "b1076dfc-b9ad-4769-8c92-a6c4dae69d19",
    "_uuid": "8f2839f25d086af736a60e9eeb907d3b93b6e0e5",
    "execution": {
     "iopub.execute_input": "2023-02-27T09:17:54.651161Z",
     "iopub.status.busy": "2023-02-27T09:17:54.650588Z",
     "iopub.status.idle": "2023-02-27T09:17:54.678221Z",
     "shell.execute_reply": "2023-02-27T09:17:54.676769Z"
    },
    "papermill": {
     "duration": 0.040675,
     "end_time": "2023-02-27T09:17:54.681948",
     "exception": false,
     "start_time": "2023-02-27T09:17:54.641273",
     "status": "completed"
    },
    "tags": []
   },
   "outputs": [
    {
     "name": "stdout",
     "output_type": "stream",
     "text": [
      "/kaggle/input/mobile-games-ab-testing/cookie_cats.csv\n"
     ]
    }
   ],
   "source": [
    "# This Python 3 environment comes with many helpful analytics libraries installed\n",
    "# It is defined by the kaggle/python Docker image: https://github.com/kaggle/docker-python\n",
    "# For example, here's several helpful packages to load\n",
    "\n",
    "import numpy as np # linear algebra\n",
    "import pandas as pd # data processing, CSV file I/O (e.g. pd.read_csv)\n",
    "import random\n",
    "import matplotlib.pyplot as plt\n",
    "%matplotlib inline \n",
    "\n",
    "# Input data files are available in the read-only \"../input/\" directory\n",
    "# For example, running this (by clicking run or pressing Shift+Enter) will list all files under the input directory\n",
    "\n",
    "import os\n",
    "for dirname, _, filenames in os.walk('/kaggle/input'):\n",
    "    for filename in filenames:\n",
    "        print(os.path.join(dirname, filename))\n",
    "\n",
    "# You can write up to 20GB to the current directory (/kaggle/working/) that gets preserved as output when you create a version using \"Save & Run All\" \n",
    "# You can also write temporary files to /kaggle/temp/, but they won't be saved outside of the current session"
   ]
  },
  {
   "cell_type": "markdown",
   "id": "07b86776",
   "metadata": {
    "papermill": {
     "duration": 0.006308,
     "end_time": "2023-02-27T09:17:54.694913",
     "exception": false,
     "start_time": "2023-02-27T09:17:54.688605",
     "status": "completed"
    },
    "tags": []
   },
   "source": [
    "# Load and Explore the Dataset"
   ]
  },
  {
   "cell_type": "code",
   "execution_count": 2,
   "id": "c5e562b8",
   "metadata": {
    "execution": {
     "iopub.execute_input": "2023-02-27T09:17:54.709655Z",
     "iopub.status.busy": "2023-02-27T09:17:54.709254Z",
     "iopub.status.idle": "2023-02-27T09:17:54.815033Z",
     "shell.execute_reply": "2023-02-27T09:17:54.813625Z"
    },
    "papermill": {
     "duration": 0.117131,
     "end_time": "2023-02-27T09:17:54.818438",
     "exception": false,
     "start_time": "2023-02-27T09:17:54.701307",
     "status": "completed"
    },
    "tags": []
   },
   "outputs": [],
   "source": [
    "df = pd.read_csv(\"/kaggle/input/mobile-games-ab-testing/cookie_cats.csv\")"
   ]
  },
  {
   "cell_type": "code",
   "execution_count": 3,
   "id": "05a23a9e",
   "metadata": {
    "execution": {
     "iopub.execute_input": "2023-02-27T09:17:54.833110Z",
     "iopub.status.busy": "2023-02-27T09:17:54.832715Z",
     "iopub.status.idle": "2023-02-27T09:17:54.870004Z",
     "shell.execute_reply": "2023-02-27T09:17:54.868354Z"
    },
    "papermill": {
     "duration": 0.048123,
     "end_time": "2023-02-27T09:17:54.873036",
     "exception": false,
     "start_time": "2023-02-27T09:17:54.824913",
     "status": "completed"
    },
    "tags": []
   },
   "outputs": [
    {
     "name": "stdout",
     "output_type": "stream",
     "text": [
      "<class 'pandas.core.frame.DataFrame'>\n",
      "RangeIndex: 90189 entries, 0 to 90188\n",
      "Data columns (total 5 columns):\n",
      " #   Column          Non-Null Count  Dtype \n",
      "---  ------          --------------  ----- \n",
      " 0   userid          90189 non-null  int64 \n",
      " 1   version         90189 non-null  object\n",
      " 2   sum_gamerounds  90189 non-null  int64 \n",
      " 3   retention_1     90189 non-null  bool  \n",
      " 4   retention_7     90189 non-null  bool  \n",
      "dtypes: bool(2), int64(2), object(1)\n",
      "memory usage: 2.2+ MB\n"
     ]
    }
   ],
   "source": [
    "df.info()"
   ]
  },
  {
   "cell_type": "code",
   "execution_count": 4,
   "id": "95702d3d",
   "metadata": {
    "execution": {
     "iopub.execute_input": "2023-02-27T09:17:54.887849Z",
     "iopub.status.busy": "2023-02-27T09:17:54.887403Z",
     "iopub.status.idle": "2023-02-27T09:17:54.899372Z",
     "shell.execute_reply": "2023-02-27T09:17:54.898115Z"
    },
    "papermill": {
     "duration": 0.022451,
     "end_time": "2023-02-27T09:17:54.902110",
     "exception": false,
     "start_time": "2023-02-27T09:17:54.879659",
     "status": "completed"
    },
    "tags": []
   },
   "outputs": [
    {
     "data": {
      "text/plain": [
       "(0, 49854)"
      ]
     },
     "execution_count": 4,
     "metadata": {},
     "output_type": "execute_result"
    }
   ],
   "source": [
    "df['sum_gamerounds'].min(),df['sum_gamerounds'].max()"
   ]
  },
  {
   "cell_type": "code",
   "execution_count": 5,
   "id": "7c1c93f7",
   "metadata": {
    "execution": {
     "iopub.execute_input": "2023-02-27T09:17:54.916801Z",
     "iopub.status.busy": "2023-02-27T09:17:54.916352Z",
     "iopub.status.idle": "2023-02-27T09:17:54.927311Z",
     "shell.execute_reply": "2023-02-27T09:17:54.926370Z"
    },
    "papermill": {
     "duration": 0.020981,
     "end_time": "2023-02-27T09:17:54.929570",
     "exception": false,
     "start_time": "2023-02-27T09:17:54.908589",
     "status": "completed"
    },
    "tags": []
   },
   "outputs": [
    {
     "data": {
      "text/plain": [
       "16.0"
      ]
     },
     "execution_count": 5,
     "metadata": {},
     "output_type": "execute_result"
    }
   ],
   "source": [
    "df['sum_gamerounds'].median()"
   ]
  },
  {
   "cell_type": "code",
   "execution_count": 6,
   "id": "ee0b8cde",
   "metadata": {
    "execution": {
     "iopub.execute_input": "2023-02-27T09:17:54.944906Z",
     "iopub.status.busy": "2023-02-27T09:17:54.944296Z",
     "iopub.status.idle": "2023-02-27T09:17:56.715046Z",
     "shell.execute_reply": "2023-02-27T09:17:56.713530Z"
    },
    "papermill": {
     "duration": 1.781424,
     "end_time": "2023-02-27T09:17:56.717669",
     "exception": false,
     "start_time": "2023-02-27T09:17:54.936245",
     "status": "completed"
    },
    "tags": []
   },
   "outputs": [
    {
     "data": {
      "image/png": "[encoded data removed]",
      "text/plain": [
       "<Figure size 640x480 with 1 Axes>"
      ]
     },
     "metadata": {},
     "output_type": "display_data"
    }
   ],
   "source": [
    "count_gamerounds = df.groupby('sum_gamerounds').size()\n",
    "plt.bar(x=count_gamerounds.index,\n",
    "       height=count_gamerounds.values)\n",
    "plt.xlim(0,200)\n",
    "plt.show()"
   ]
  },
  {
   "cell_type": "code",
   "execution_count": 7,
   "id": "1369b44e",
   "metadata": {
    "execution": {
     "iopub.execute_input": "2023-02-27T09:17:56.734056Z",
     "iopub.status.busy": "2023-02-27T09:17:56.733160Z",
     "iopub.status.idle": "2023-02-27T09:17:56.747062Z",
     "shell.execute_reply": "2023-02-27T09:17:56.745743Z"
    },
    "papermill": {
     "duration": 0.025218,
     "end_time": "2023-02-27T09:17:56.749866",
     "exception": false,
     "start_time": "2023-02-27T09:17:56.724648",
     "status": "completed"
    },
    "tags": []
   },
   "outputs": [
    {
     "data": {
      "text/plain": [
       "array(['gate_30', 'gate_40'], dtype=object)"
      ]
     },
     "execution_count": 7,
     "metadata": {},
     "output_type": "execute_result"
    }
   ],
   "source": [
    "df['version'].unique()"
   ]
  },
  {
   "cell_type": "code",
   "execution_count": 8,
   "id": "2b6e955a",
   "metadata": {
    "execution": {
     "iopub.execute_input": "2023-02-27T09:17:56.766080Z",
     "iopub.status.busy": "2023-02-27T09:17:56.765688Z",
     "iopub.status.idle": "2023-02-27T09:17:56.813371Z",
     "shell.execute_reply": "2023-02-27T09:17:56.812080Z"
    },
    "papermill": {
     "duration": 0.059271,
     "end_time": "2023-02-27T09:17:56.816218",
     "exception": false,
     "start_time": "2023-02-27T09:17:56.756947",
     "status": "completed"
    },
    "tags": []
   },
   "outputs": [
    {
     "data": {
      "text/html": [
       "<div>\n",
       "<style scoped>\n",
       "    .dataframe tbody tr th:only-of-type {\n",
       "        vertical-align: middle;\n",
       "    }\n",
       "\n",
       "    .dataframe tbody tr th {\n",
       "        vertical-align: top;\n",
       "    }\n",
       "\n",
       "    .dataframe thead th {\n",
       "        text-align: right;\n",
       "    }\n",
       "</style>\n",
       "<table border=\"1\" class=\"dataframe\">\n",
       "  <thead>\n",
       "    <tr style=\"text-align: right;\">\n",
       "      <th></th>\n",
       "      <th>userid</th>\n",
       "      <th>version</th>\n",
       "      <th>sum_gamerounds</th>\n",
       "      <th>retention_1</th>\n",
       "      <th>retention_7</th>\n",
       "    </tr>\n",
       "  </thead>\n",
       "  <tbody>\n",
       "  </tbody>\n",
       "</table>\n",
       "</div>"
      ],
      "text/plain": [
       "Empty DataFrame\n",
       "Columns: [userid, version, sum_gamerounds, retention_1, retention_7]\n",
       "Index: []"
      ]
     },
     "execution_count": 8,
     "metadata": {},
     "output_type": "execute_result"
    }
   ],
   "source": [
    "df[df.duplicated()] #no duplicated enteries available"
   ]
  },
  {
   "cell_type": "code",
   "execution_count": 9,
   "id": "0685f49a",
   "metadata": {
    "execution": {
     "iopub.execute_input": "2023-02-27T09:17:56.833186Z",
     "iopub.status.busy": "2023-02-27T09:17:56.832153Z",
     "iopub.status.idle": "2023-02-27T09:17:56.844812Z",
     "shell.execute_reply": "2023-02-27T09:17:56.843507Z"
    },
    "papermill": {
     "duration": 0.02388,
     "end_time": "2023-02-27T09:17:56.847470",
     "exception": false,
     "start_time": "2023-02-27T09:17:56.823590",
     "status": "completed"
    },
    "tags": []
   },
   "outputs": [
    {
     "data": {
      "text/plain": [
       "90189"
      ]
     },
     "execution_count": 9,
     "metadata": {},
     "output_type": "execute_result"
    }
   ],
   "source": [
    "df['userid'].nunique()"
   ]
  },
  {
   "cell_type": "code",
   "execution_count": 10,
   "id": "e51903fd",
   "metadata": {
    "execution": {
     "iopub.execute_input": "2023-02-27T09:17:56.864751Z",
     "iopub.status.busy": "2023-02-27T09:17:56.863771Z",
     "iopub.status.idle": "2023-02-27T09:17:56.880311Z",
     "shell.execute_reply": "2023-02-27T09:17:56.879121Z"
    },
    "papermill": {
     "duration": 0.028198,
     "end_time": "2023-02-27T09:17:56.883220",
     "exception": false,
     "start_time": "2023-02-27T09:17:56.855022",
     "status": "completed"
    },
    "tags": []
   },
   "outputs": [],
   "source": [
    "df['sum_gamerounds'] = df['sum_gamerounds'].astype('int32') #downcasting datatype for preformance\n",
    "df['version'] = df['version'].astype('category') #changing to category \n",
    "df2 = df.set_index('userid')"
   ]
  },
  {
   "cell_type": "code",
   "execution_count": 11,
   "id": "fe826c41",
   "metadata": {
    "execution": {
     "iopub.execute_input": "2023-02-27T09:17:56.900991Z",
     "iopub.status.busy": "2023-02-27T09:17:56.900219Z",
     "iopub.status.idle": "2023-02-27T09:17:56.919498Z",
     "shell.execute_reply": "2023-02-27T09:17:56.918062Z"
    },
    "papermill": {
     "duration": 0.030877,
     "end_time": "2023-02-27T09:17:56.922468",
     "exception": false,
     "start_time": "2023-02-27T09:17:56.891591",
     "status": "completed"
    },
    "tags": []
   },
   "outputs": [
    {
     "name": "stdout",
     "output_type": "stream",
     "text": [
      "<class 'pandas.core.frame.DataFrame'>\n",
      "Int64Index: 90189 entries, 116 to 9999861\n",
      "Data columns (total 4 columns):\n",
      " #   Column          Non-Null Count  Dtype   \n",
      "---  ------          --------------  -----   \n",
      " 0   version         90189 non-null  category\n",
      " 1   sum_gamerounds  90189 non-null  int32   \n",
      " 2   retention_1     90189 non-null  bool    \n",
      " 3   retention_7     90189 non-null  bool    \n",
      "dtypes: bool(2), category(1), int32(1)\n",
      "memory usage: 1.3 MB\n"
     ]
    }
   ],
   "source": [
    "df2.info() # memory usage went from 2.2mb to 1.3mb"
   ]
  },
  {
   "cell_type": "markdown",
   "id": "19478eea",
   "metadata": {
    "papermill": {
     "duration": 0.007128,
     "end_time": "2023-02-27T09:17:56.937186",
     "exception": false,
     "start_time": "2023-02-27T09:17:56.930058",
     "status": "completed"
    },
    "tags": []
   },
   "source": [
    "# A/B Testing Retention 1 day\n",
    "\n",
    "$$H_0: \\mu_{gate30} - \\mu_{gate40} = 0$$\n",
    "\n",
    "$$H_1: \\mu_{gate30} - \\mu_{gate40} \\neq 0$$\n"
   ]
  },
  {
   "cell_type": "code",
   "execution_count": 12,
   "id": "05c375ca",
   "metadata": {
    "execution": {
     "iopub.execute_input": "2023-02-27T09:17:56.954475Z",
     "iopub.status.busy": "2023-02-27T09:17:56.953551Z",
     "iopub.status.idle": "2023-02-27T09:17:56.978104Z",
     "shell.execute_reply": "2023-02-27T09:17:56.977173Z"
    },
    "papermill": {
     "duration": 0.03602,
     "end_time": "2023-02-27T09:17:56.980738",
     "exception": false,
     "start_time": "2023-02-27T09:17:56.944718",
     "status": "completed"
    },
    "tags": []
   },
   "outputs": [
    {
     "data": {
      "text/plain": [
       "(0.4481879194630872, 0.44228274967574577)"
      ]
     },
     "execution_count": 12,
     "metadata": {},
     "output_type": "execute_result"
    }
   ],
   "source": [
    "df2.query(\"version == 'gate_30'\")['retention_1'].mean(),df2.query(\"version == 'gate_40'\")['retention_1'].mean() "
   ]
  },
  {
   "cell_type": "code",
   "execution_count": 13,
   "id": "1094b992",
   "metadata": {
    "execution": {
     "iopub.execute_input": "2023-02-27T09:17:56.998196Z",
     "iopub.status.busy": "2023-02-27T09:17:56.997777Z",
     "iopub.status.idle": "2023-02-27T09:17:57.018820Z",
     "shell.execute_reply": "2023-02-27T09:17:57.017529Z"
    },
    "papermill": {
     "duration": 0.033485,
     "end_time": "2023-02-27T09:17:57.021888",
     "exception": false,
     "start_time": "2023-02-27T09:17:56.988403",
     "status": "completed"
    },
    "tags": []
   },
   "outputs": [
    {
     "data": {
      "text/plain": [
       "0.005905169787341458"
      ]
     },
     "execution_count": 13,
     "metadata": {},
     "output_type": "execute_result"
    }
   ],
   "source": [
    "df2.query(\"version == 'gate_30'\")['retention_1'].mean()-df2.query(\"version == 'gate_40'\")['retention_1'].mean() "
   ]
  },
  {
   "cell_type": "code",
   "execution_count": 14,
   "id": "b91ba1fa",
   "metadata": {
    "execution": {
     "iopub.execute_input": "2023-02-27T09:17:57.039012Z",
     "iopub.status.busy": "2023-02-27T09:17:57.038562Z",
     "iopub.status.idle": "2023-02-27T09:17:57.055984Z",
     "shell.execute_reply": "2023-02-27T09:17:57.054915Z"
    },
    "papermill": {
     "duration": 0.029295,
     "end_time": "2023-02-27T09:17:57.058908",
     "exception": false,
     "start_time": "2023-02-27T09:17:57.029613",
     "status": "completed"
    },
    "tags": []
   },
   "outputs": [],
   "source": [
    "n_gate_30 = df2.query(\"version == 'gate_30'\")['version'].count()\n",
    "n_gate_40 = df2.query(\"version == 'gate_40'\")['version'].count()"
   ]
  },
  {
   "cell_type": "code",
   "execution_count": 15,
   "id": "493191e0",
   "metadata": {
    "execution": {
     "iopub.execute_input": "2023-02-27T09:17:57.075964Z",
     "iopub.status.busy": "2023-02-27T09:17:57.075272Z",
     "iopub.status.idle": "2023-02-27T09:17:57.082946Z",
     "shell.execute_reply": "2023-02-27T09:17:57.081734Z"
    },
    "papermill": {
     "duration": 0.019024,
     "end_time": "2023-02-27T09:17:57.085453",
     "exception": false,
     "start_time": "2023-02-27T09:17:57.066429",
     "status": "completed"
    },
    "tags": []
   },
   "outputs": [
    {
     "data": {
      "text/plain": [
       "(44700, 45489)"
      ]
     },
     "execution_count": 15,
     "metadata": {},
     "output_type": "execute_result"
    }
   ],
   "source": [
    "n_gate_30, n_gate_40"
   ]
  },
  {
   "cell_type": "code",
   "execution_count": 16,
   "id": "f52d5487",
   "metadata": {
    "execution": {
     "iopub.execute_input": "2023-02-27T09:17:57.102579Z",
     "iopub.status.busy": "2023-02-27T09:17:57.102141Z",
     "iopub.status.idle": "2023-02-27T09:17:57.125049Z",
     "shell.execute_reply": "2023-02-27T09:17:57.123040Z"
    },
    "papermill": {
     "duration": 0.036945,
     "end_time": "2023-02-27T09:17:57.130070",
     "exception": false,
     "start_time": "2023-02-27T09:17:57.093125",
     "status": "completed"
    },
    "tags": []
   },
   "outputs": [
    {
     "data": {
      "text/plain": [
       "0.005905169787341458"
      ]
     },
     "execution_count": 16,
     "metadata": {},
     "output_type": "execute_result"
    }
   ],
   "source": [
    "# calculate obs diff\n",
    "gate_30_ret = df2.query(\"version == 'gate_30'\")['retention_1']\n",
    "gate_40_ret = df2.query(\"version == 'gate_40'\")['retention_1']\n",
    "obs_diff = gate_30_ret.mean() - gate_40_ret.mean()\n",
    "obs_diff"
   ]
  },
  {
   "cell_type": "code",
   "execution_count": 17,
   "id": "54a2d4cd",
   "metadata": {
    "execution": {
     "iopub.execute_input": "2023-02-27T09:17:57.149598Z",
     "iopub.status.busy": "2023-02-27T09:17:57.149038Z",
     "iopub.status.idle": "2023-02-27T09:20:28.317006Z",
     "shell.execute_reply": "2023-02-27T09:20:28.315634Z"
    },
    "papermill": {
     "duration": 151.181218,
     "end_time": "2023-02-27T09:20:28.320158",
     "exception": false,
     "start_time": "2023-02-27T09:17:57.138940",
     "status": "completed"
    },
    "tags": []
   },
   "outputs": [],
   "source": [
    "p_diffs = []\n",
    "size = df2.shape[0]\n",
    "for _ in range(10_000):\n",
    "    sample_df = df2.sample(size, replace=True)\n",
    "    p_gate_30 = sample_df.query(\"version == 'gate_30'\")['retention_1'].mean()\n",
    "    p_gate_40 = sample_df.query(\"version == 'gate_40'\")['retention_1'].mean()\n",
    "    p_diffs.append(p_gate_30-p_gate_40)"
   ]
  },
  {
   "cell_type": "code",
   "execution_count": 18,
   "id": "3c5c8062",
   "metadata": {
    "execution": {
     "iopub.execute_input": "2023-02-27T09:20:28.337762Z",
     "iopub.status.busy": "2023-02-27T09:20:28.337337Z",
     "iopub.status.idle": "2023-02-27T09:20:28.612069Z",
     "shell.execute_reply": "2023-02-27T09:20:28.610494Z"
    },
    "papermill": {
     "duration": 0.28659,
     "end_time": "2023-02-27T09:20:28.614815",
     "exception": false,
     "start_time": "2023-02-27T09:20:28.328225",
     "status": "completed"
    },
    "tags": []
   },
   "outputs": [
    {
     "data": {
      "image/png": "[encoded data removed]",
      "text/plain": [
       "<Figure size 640x480 with 1 Axes>"
      ]
     },
     "metadata": {},
     "output_type": "display_data"
    }
   ],
   "source": [
    "plt.hist(p_diffs)\n",
    "plt.title(\"Sample Dist. of diff in mean retention rates for day 1\")\n",
    "plt.xlabel(\"Diff in mean ret rates\")\n",
    "plt.ylabel(\"Count\")\n",
    "plt.show()"
   ]
  },
  {
   "cell_type": "code",
   "execution_count": 19,
   "id": "2eb676bf",
   "metadata": {
    "execution": {
     "iopub.execute_input": "2023-02-27T09:20:28.633346Z",
     "iopub.status.busy": "2023-02-27T09:20:28.632950Z",
     "iopub.status.idle": "2023-02-27T09:20:28.640575Z",
     "shell.execute_reply": "2023-02-27T09:20:28.639030Z"
    },
    "papermill": {
     "duration": 0.02002,
     "end_time": "2023-02-27T09:20:28.643222",
     "exception": false,
     "start_time": "2023-02-27T09:20:28.623202",
     "status": "completed"
    },
    "tags": []
   },
   "outputs": [],
   "source": [
    "null_vals = np.random.normal(0,np.array(p_diffs).std(),len(p_diffs))"
   ]
  },
  {
   "cell_type": "code",
   "execution_count": 20,
   "id": "1fa3ee23",
   "metadata": {
    "execution": {
     "iopub.execute_input": "2023-02-27T09:20:28.662018Z",
     "iopub.status.busy": "2023-02-27T09:20:28.661298Z",
     "iopub.status.idle": "2023-02-27T09:20:28.908147Z",
     "shell.execute_reply": "2023-02-27T09:20:28.906769Z"
    },
    "papermill": {
     "duration": 0.259326,
     "end_time": "2023-02-27T09:20:28.910913",
     "exception": false,
     "start_time": "2023-02-27T09:20:28.651587",
     "status": "completed"
    },
    "tags": []
   },
   "outputs": [
    {
     "data": {
      "image/png": "[encoded data removed]",
      "text/plain": [
       "<Figure size 640x480 with 1 Axes>"
      ]
     },
     "metadata": {},
     "output_type": "display_data"
    }
   ],
   "source": [
    "plt.hist(null_vals)\n",
    "plt.title(\"Normal Dist.\")\n",
    "plt.ylabel(\"Count\")\n",
    "plt.axvline(x=obs_diff, color=\"r\")\n",
    "plt.show()"
   ]
  },
  {
   "cell_type": "code",
   "execution_count": 21,
   "id": "68293b92",
   "metadata": {
    "execution": {
     "iopub.execute_input": "2023-02-27T09:20:28.932141Z",
     "iopub.status.busy": "2023-02-27T09:20:28.930812Z",
     "iopub.status.idle": "2023-02-27T09:20:28.940396Z",
     "shell.execute_reply": "2023-02-27T09:20:28.938925Z"
    },
    "papermill": {
     "duration": 0.022528,
     "end_time": "2023-02-27T09:20:28.943083",
     "exception": false,
     "start_time": "2023-02-27T09:20:28.920555",
     "status": "completed"
    },
    "tags": []
   },
   "outputs": [
    {
     "data": {
      "text/plain": [
       "0.0339"
      ]
     },
     "execution_count": 21,
     "metadata": {},
     "output_type": "execute_result"
    }
   ],
   "source": [
    "(null_vals>obs_diff).mean()"
   ]
  },
  {
   "cell_type": "markdown",
   "id": "aea000e6",
   "metadata": {
    "papermill": {
     "duration": 0.008456,
     "end_time": "2023-02-27T09:20:28.960369",
     "exception": false,
     "start_time": "2023-02-27T09:20:28.951913",
     "status": "completed"
    },
    "tags": []
   },
   "source": [
    "We reject $H_0$ and we are 95% confident that the gate_40 version's retention rate is significantly different than gate_30 version's retention rate."
   ]
  },
  {
   "cell_type": "code",
   "execution_count": null,
   "id": "3fa4997c",
   "metadata": {
    "papermill": {
     "duration": 0.008626,
     "end_time": "2023-02-27T09:20:28.977936",
     "exception": false,
     "start_time": "2023-02-27T09:20:28.969310",
     "status": "completed"
    },
    "tags": []
   },
   "outputs": [],
   "source": []
  }
 ],
 "metadata": {
  "kernelspec": {
   "display_name": "Python 3",
   "language": "python",
   "name": "python3"
  },
  "language_info": {
   "codemirror_mode": {
    "name": "ipython",
    "version": 3
   },
   "file_extension": ".py",
   "mimetype": "text/x-python",
   "name": "python",
   "nbconvert_exporter": "python",
   "pygments_lexer": "ipython3",
   "version": "3.7.12"
  },
  "papermill": {
   "default_parameters": {},
   "duration": 165.898304,
   "end_time": "2023-02-27T09:20:29.709874",
   "environment_variables": {},
   "exception": null,
   "input_path": "__notebook__.ipynb",
   "output_path": "__notebook__.ipynb",
   "parameters": {},
   "start_time": "2023-02-27T09:17:43.811570",
   "version": "2.4.0"
  }
 },
 "nbformat": 4,
 "nbformat_minor": 5
}
