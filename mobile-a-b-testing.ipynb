{
 "cells": [
  {
   "cell_type": "code",
   "execution_count": 1,
   "id": "b4df6b16",
   "metadata": {
    "_cell_guid": "b1076dfc-b9ad-4769-8c92-a6c4dae69d19",
    "_uuid": "8f2839f25d086af736a60e9eeb907d3b93b6e0e5",
    "execution": {
     "iopub.execute_input": "2023-02-26T22:50:32.881458Z",
     "iopub.status.busy": "2023-02-26T22:50:32.881049Z",
     "iopub.status.idle": "2023-02-26T22:50:32.906555Z",
     "shell.execute_reply": "2023-02-26T22:50:32.905229Z"
    },
    "papermill": {
     "duration": 0.038732,
     "end_time": "2023-02-26T22:50:32.909564",
     "exception": false,
     "start_time": "2023-02-26T22:50:32.870832",
     "status": "completed"
    },
    "tags": []
   },
   "outputs": [
    {
     "name": "stdout",
     "output_type": "stream",
     "text": [
      "/kaggle/input/mobile-games-ab-testing/cookie_cats.csv\n"
     ]
    }
   ],
   "source": [
    "# This Python 3 environment comes with many helpful analytics libraries installed\n",
    "# It is defined by the kaggle/python Docker image: https://github.com/kaggle/docker-python\n",
    "# For example, here's several helpful packages to load\n",
    "\n",
    "import numpy as np # linear algebra\n",
    "import pandas as pd # data processing, CSV file I/O (e.g. pd.read_csv)\n",
    "import random\n",
    "import matplotlib.pyplot as plt\n",
    "%matplotlib inline \n",
    "\n",
    "# Input data files are available in the read-only \"../input/\" directory\n",
    "# For example, running this (by clicking run or pressing Shift+Enter) will list all files under the input directory\n",
    "\n",
    "import os\n",
    "for dirname, _, filenames in os.walk('/kaggle/input'):\n",
    "    for filename in filenames:\n",
    "        print(os.path.join(dirname, filename))\n",
    "\n",
    "# You can write up to 20GB to the current directory (/kaggle/working/) that gets preserved as output when you create a version using \"Save & Run All\" \n",
    "# You can also write temporary files to /kaggle/temp/, but they won't be saved outside of the current session"
   ]
  },
  {
   "cell_type": "markdown",
   "id": "72842d3e",
   "metadata": {
    "papermill": {
     "duration": 0.006332,
     "end_time": "2023-02-26T22:50:32.922878",
     "exception": false,
     "start_time": "2023-02-26T22:50:32.916546",
     "status": "completed"
    },
    "tags": []
   },
   "source": [
    "# Load and Explore the Dataset"
   ]
  },
  {
   "cell_type": "code",
   "execution_count": 2,
   "id": "c645ce19",
   "metadata": {
    "execution": {
     "iopub.execute_input": "2023-02-26T22:50:32.938158Z",
     "iopub.status.busy": "2023-02-26T22:50:32.937318Z",
     "iopub.status.idle": "2023-02-26T22:50:33.055488Z",
     "shell.execute_reply": "2023-02-26T22:50:33.053790Z"
    },
    "papermill": {
     "duration": 0.129164,
     "end_time": "2023-02-26T22:50:33.058548",
     "exception": false,
     "start_time": "2023-02-26T22:50:32.929384",
     "status": "completed"
    },
    "tags": []
   },
   "outputs": [],
   "source": [
    "df = pd.read_csv(\"/kaggle/input/mobile-games-ab-testing/cookie_cats.csv\")"
   ]
  },
  {
   "cell_type": "code",
   "execution_count": 3,
   "id": "94c96dde",
   "metadata": {
    "execution": {
     "iopub.execute_input": "2023-02-26T22:50:33.074002Z",
     "iopub.status.busy": "2023-02-26T22:50:33.073591Z",
     "iopub.status.idle": "2023-02-26T22:50:33.111878Z",
     "shell.execute_reply": "2023-02-26T22:50:33.109725Z"
    },
    "papermill": {
     "duration": 0.049555,
     "end_time": "2023-02-26T22:50:33.115100",
     "exception": false,
     "start_time": "2023-02-26T22:50:33.065545",
     "status": "completed"
    },
    "tags": []
   },
   "outputs": [
    {
     "name": "stdout",
     "output_type": "stream",
     "text": [
      "<class 'pandas.core.frame.DataFrame'>\n",
      "RangeIndex: 90189 entries, 0 to 90188\n",
      "Data columns (total 5 columns):\n",
      " #   Column          Non-Null Count  Dtype \n",
      "---  ------          --------------  ----- \n",
      " 0   userid          90189 non-null  int64 \n",
      " 1   version         90189 non-null  object\n",
      " 2   sum_gamerounds  90189 non-null  int64 \n",
      " 3   retention_1     90189 non-null  bool  \n",
      " 4   retention_7     90189 non-null  bool  \n",
      "dtypes: bool(2), int64(2), object(1)\n",
      "memory usage: 2.2+ MB\n"
     ]
    }
   ],
   "source": [
    "df.info()"
   ]
  },
  {
   "cell_type": "code",
   "execution_count": 4,
   "id": "9c4803b9",
   "metadata": {
    "execution": {
     "iopub.execute_input": "2023-02-26T22:50:33.131577Z",
     "iopub.status.busy": "2023-02-26T22:50:33.130483Z",
     "iopub.status.idle": "2023-02-26T22:50:33.140839Z",
     "shell.execute_reply": "2023-02-26T22:50:33.139591Z"
    },
    "papermill": {
     "duration": 0.021801,
     "end_time": "2023-02-26T22:50:33.143731",
     "exception": false,
     "start_time": "2023-02-26T22:50:33.121930",
     "status": "completed"
    },
    "tags": []
   },
   "outputs": [
    {
     "data": {
      "text/plain": [
       "(0, 49854)"
      ]
     },
     "execution_count": 4,
     "metadata": {},
     "output_type": "execute_result"
    }
   ],
   "source": [
    "df['sum_gamerounds'].min(),df['sum_gamerounds'].max()"
   ]
  },
  {
   "cell_type": "code",
   "execution_count": 5,
   "id": "96cd4d32",
   "metadata": {
    "execution": {
     "iopub.execute_input": "2023-02-26T22:50:33.160643Z",
     "iopub.status.busy": "2023-02-26T22:50:33.160224Z",
     "iopub.status.idle": "2023-02-26T22:50:33.171691Z",
     "shell.execute_reply": "2023-02-26T22:50:33.170714Z"
    },
    "papermill": {
     "duration": 0.023099,
     "end_time": "2023-02-26T22:50:33.173995",
     "exception": false,
     "start_time": "2023-02-26T22:50:33.150896",
     "status": "completed"
    },
    "tags": []
   },
   "outputs": [
    {
     "data": {
      "text/plain": [
       "16.0"
      ]
     },
     "execution_count": 5,
     "metadata": {},
     "output_type": "execute_result"
    }
   ],
   "source": [
    "df['sum_gamerounds'].median()"
   ]
  },
  {
   "cell_type": "code",
   "execution_count": 6,
   "id": "3b2ec0ad",
   "metadata": {
    "execution": {
     "iopub.execute_input": "2023-02-26T22:50:33.191569Z",
     "iopub.status.busy": "2023-02-26T22:50:33.190569Z",
     "iopub.status.idle": "2023-02-26T22:50:34.958092Z",
     "shell.execute_reply": "2023-02-26T22:50:34.957009Z"
    },
    "papermill": {
     "duration": 1.780828,
     "end_time": "2023-02-26T22:50:34.961877",
     "exception": false,
     "start_time": "2023-02-26T22:50:33.181049",
     "status": "completed"
    },
    "tags": []
   },
   "outputs": [
    {
     "data": {
      "image/png": "[encoded data removed]",
      "text/plain": [
       "<Figure size 640x480 with 1 Axes>"
      ]
     },
     "metadata": {},
     "output_type": "display_data"
    }
   ],
   "source": [
    "count_gamerounds = df.groupby('sum_gamerounds').size()\n",
    "plt.bar(x=count_gamerounds.index,\n",
    "       height=count_gamerounds.values)\n",
    "plt.xlim(0,200)\n",
    "plt.show()"
   ]
  },
  {
   "cell_type": "code",
   "execution_count": 7,
   "id": "1ac5ad02",
   "metadata": {
    "execution": {
     "iopub.execute_input": "2023-02-26T22:50:34.981708Z",
     "iopub.status.busy": "2023-02-26T22:50:34.980404Z",
     "iopub.status.idle": "2023-02-26T22:50:34.996095Z",
     "shell.execute_reply": "2023-02-26T22:50:34.994968Z"
    },
    "papermill": {
     "duration": 0.029036,
     "end_time": "2023-02-26T22:50:34.999060",
     "exception": false,
     "start_time": "2023-02-26T22:50:34.970024",
     "status": "completed"
    },
    "tags": []
   },
   "outputs": [
    {
     "data": {
      "text/plain": [
       "array(['gate_30', 'gate_40'], dtype=object)"
      ]
     },
     "execution_count": 7,
     "metadata": {},
     "output_type": "execute_result"
    }
   ],
   "source": [
    "df['version'].unique()"
   ]
  },
  {
   "cell_type": "code",
   "execution_count": 8,
   "id": "dad2459e",
   "metadata": {
    "execution": {
     "iopub.execute_input": "2023-02-26T22:50:35.017979Z",
     "iopub.status.busy": "2023-02-26T22:50:35.017033Z",
     "iopub.status.idle": "2023-02-26T22:50:35.075996Z",
     "shell.execute_reply": "2023-02-26T22:50:35.074781Z"
    },
    "papermill": {
     "duration": 0.071442,
     "end_time": "2023-02-26T22:50:35.078998",
     "exception": false,
     "start_time": "2023-02-26T22:50:35.007556",
     "status": "completed"
    },
    "tags": []
   },
   "outputs": [
    {
     "data": {
      "text/html": [
       "<div>\n",
       "<style scoped>\n",
       "    .dataframe tbody tr th:only-of-type {\n",
       "        vertical-align: middle;\n",
       "    }\n",
       "\n",
       "    .dataframe tbody tr th {\n",
       "        vertical-align: top;\n",
       "    }\n",
       "\n",
       "    .dataframe thead th {\n",
       "        text-align: right;\n",
       "    }\n",
       "</style>\n",
       "<table border=\"1\" class=\"dataframe\">\n",
       "  <thead>\n",
       "    <tr style=\"text-align: right;\">\n",
       "      <th></th>\n",
       "      <th>userid</th>\n",
       "      <th>version</th>\n",
       "      <th>sum_gamerounds</th>\n",
       "      <th>retention_1</th>\n",
       "      <th>retention_7</th>\n",
       "    </tr>\n",
       "  </thead>\n",
       "  <tbody>\n",
       "  </tbody>\n",
       "</table>\n",
       "</div>"
      ],
      "text/plain": [
       "Empty DataFrame\n",
       "Columns: [userid, version, sum_gamerounds, retention_1, retention_7]\n",
       "Index: []"
      ]
     },
     "execution_count": 8,
     "metadata": {},
     "output_type": "execute_result"
    }
   ],
   "source": [
    "df[df.duplicated()] #no duplicated enteries available"
   ]
  },
  {
   "cell_type": "code",
   "execution_count": 9,
   "id": "b4f87c4f",
   "metadata": {
    "execution": {
     "iopub.execute_input": "2023-02-26T22:50:35.099051Z",
     "iopub.status.busy": "2023-02-26T22:50:35.098207Z",
     "iopub.status.idle": "2023-02-26T22:50:35.112202Z",
     "shell.execute_reply": "2023-02-26T22:50:35.110921Z"
    },
    "papermill": {
     "duration": 0.027908,
     "end_time": "2023-02-26T22:50:35.115051",
     "exception": false,
     "start_time": "2023-02-26T22:50:35.087143",
     "status": "completed"
    },
    "tags": []
   },
   "outputs": [
    {
     "data": {
      "text/plain": [
       "90189"
      ]
     },
     "execution_count": 9,
     "metadata": {},
     "output_type": "execute_result"
    }
   ],
   "source": [
    "df['userid'].nunique()"
   ]
  },
  {
   "cell_type": "code",
   "execution_count": 10,
   "id": "e1621c26",
   "metadata": {
    "execution": {
     "iopub.execute_input": "2023-02-26T22:50:35.134200Z",
     "iopub.status.busy": "2023-02-26T22:50:35.132927Z",
     "iopub.status.idle": "2023-02-26T22:50:35.152185Z",
     "shell.execute_reply": "2023-02-26T22:50:35.150912Z"
    },
    "papermill": {
     "duration": 0.032345,
     "end_time": "2023-02-26T22:50:35.155468",
     "exception": false,
     "start_time": "2023-02-26T22:50:35.123123",
     "status": "completed"
    },
    "tags": []
   },
   "outputs": [],
   "source": [
    "df['sum_gamerounds'] = df['sum_gamerounds'].astype('int32') #downcasting datatype for preformance\n",
    "df['version'] = df['version'].astype('category') #changing to category \n",
    "df2 = df.set_index('userid')"
   ]
  },
  {
   "cell_type": "code",
   "execution_count": 11,
   "id": "6f4ab64a",
   "metadata": {
    "execution": {
     "iopub.execute_input": "2023-02-26T22:50:35.174947Z",
     "iopub.status.busy": "2023-02-26T22:50:35.173776Z",
     "iopub.status.idle": "2023-02-26T22:50:35.194822Z",
     "shell.execute_reply": "2023-02-26T22:50:35.193313Z"
    },
    "papermill": {
     "duration": 0.03478,
     "end_time": "2023-02-26T22:50:35.198326",
     "exception": false,
     "start_time": "2023-02-26T22:50:35.163546",
     "status": "completed"
    },
    "tags": []
   },
   "outputs": [
    {
     "name": "stdout",
     "output_type": "stream",
     "text": [
      "<class 'pandas.core.frame.DataFrame'>\n",
      "Int64Index: 90189 entries, 116 to 9999861\n",
      "Data columns (total 4 columns):\n",
      " #   Column          Non-Null Count  Dtype   \n",
      "---  ------          --------------  -----   \n",
      " 0   version         90189 non-null  category\n",
      " 1   sum_gamerounds  90189 non-null  int32   \n",
      " 2   retention_1     90189 non-null  bool    \n",
      " 3   retention_7     90189 non-null  bool    \n",
      "dtypes: bool(2), category(1), int32(1)\n",
      "memory usage: 1.3 MB\n"
     ]
    }
   ],
   "source": [
    "df2.info() # memory usage went from 2.2mb to 1.3mb"
   ]
  },
  {
   "cell_type": "markdown",
   "id": "b7ec341a",
   "metadata": {
    "papermill": {
     "duration": 0.007726,
     "end_time": "2023-02-26T22:50:35.214633",
     "exception": false,
     "start_time": "2023-02-26T22:50:35.206907",
     "status": "completed"
    },
    "tags": []
   },
   "source": [
    "# A/B Testing Retention 1 day"
   ]
  },
  {
   "cell_type": "markdown",
   "id": "f3003bba",
   "metadata": {
    "papermill": {
     "duration": 0.00756,
     "end_time": "2023-02-26T22:50:35.230131",
     "exception": false,
     "start_time": "2023-02-26T22:50:35.222571",
     "status": "completed"
    },
    "tags": []
   },
   "source": [
    "# $$H_0: \\mu_{gate30} - \\mu_{gate40} = 0$$\n",
    "\n",
    "# $$H_1: \\mu_{gate30} - \\mu_{gate40} \\neq 0$$\n"
   ]
  },
  {
   "cell_type": "code",
   "execution_count": 12,
   "id": "2274850b",
   "metadata": {
    "execution": {
     "iopub.execute_input": "2023-02-26T22:50:35.248704Z",
     "iopub.status.busy": "2023-02-26T22:50:35.247923Z",
     "iopub.status.idle": "2023-02-26T22:50:35.274785Z",
     "shell.execute_reply": "2023-02-26T22:50:35.273699Z"
    },
    "papermill": {
     "duration": 0.039377,
     "end_time": "2023-02-26T22:50:35.277458",
     "exception": false,
     "start_time": "2023-02-26T22:50:35.238081",
     "status": "completed"
    },
    "tags": []
   },
   "outputs": [
    {
     "data": {
      "text/plain": [
       "(0.4481879194630872, 0.44228274967574577)"
      ]
     },
     "execution_count": 12,
     "metadata": {},
     "output_type": "execute_result"
    }
   ],
   "source": [
    "df2.query(\"version == 'gate_30'\")['retention_1'].mean(),df2.query(\"version == 'gate_40'\")['retention_1'].mean() "
   ]
  },
  {
   "cell_type": "code",
   "execution_count": 13,
   "id": "b5fe1582",
   "metadata": {
    "execution": {
     "iopub.execute_input": "2023-02-26T22:50:35.296795Z",
     "iopub.status.busy": "2023-02-26T22:50:35.295891Z",
     "iopub.status.idle": "2023-02-26T22:50:35.319001Z",
     "shell.execute_reply": "2023-02-26T22:50:35.317541Z"
    },
    "papermill": {
     "duration": 0.036384,
     "end_time": "2023-02-26T22:50:35.322023",
     "exception": false,
     "start_time": "2023-02-26T22:50:35.285639",
     "status": "completed"
    },
    "tags": []
   },
   "outputs": [
    {
     "data": {
      "text/plain": [
       "0.005905169787341458"
      ]
     },
     "execution_count": 13,
     "metadata": {},
     "output_type": "execute_result"
    }
   ],
   "source": [
    "df2.query(\"version == 'gate_30'\")['retention_1'].mean()-df2.query(\"version == 'gate_40'\")['retention_1'].mean() "
   ]
  },
  {
   "cell_type": "code",
   "execution_count": 14,
   "id": "15fa0944",
   "metadata": {
    "execution": {
     "iopub.execute_input": "2023-02-26T22:50:35.341387Z",
     "iopub.status.busy": "2023-02-26T22:50:35.340342Z",
     "iopub.status.idle": "2023-02-26T22:50:35.361203Z",
     "shell.execute_reply": "2023-02-26T22:50:35.360007Z"
    },
    "papermill": {
     "duration": 0.033871,
     "end_time": "2023-02-26T22:50:35.364217",
     "exception": false,
     "start_time": "2023-02-26T22:50:35.330346",
     "status": "completed"
    },
    "tags": []
   },
   "outputs": [],
   "source": [
    "n_gate_30 = df2.query(\"version == 'gate_30'\")['version'].count()\n",
    "n_gate_40 = df2.query(\"version == 'gate_40'\")['version'].count()"
   ]
  },
  {
   "cell_type": "code",
   "execution_count": 15,
   "id": "2ea40111",
   "metadata": {
    "execution": {
     "iopub.execute_input": "2023-02-26T22:50:35.383267Z",
     "iopub.status.busy": "2023-02-26T22:50:35.382792Z",
     "iopub.status.idle": "2023-02-26T22:50:35.390934Z",
     "shell.execute_reply": "2023-02-26T22:50:35.389628Z"
    },
    "papermill": {
     "duration": 0.021099,
     "end_time": "2023-02-26T22:50:35.393611",
     "exception": false,
     "start_time": "2023-02-26T22:50:35.372512",
     "status": "completed"
    },
    "tags": []
   },
   "outputs": [
    {
     "data": {
      "text/plain": [
       "(44700, 45489)"
      ]
     },
     "execution_count": 15,
     "metadata": {},
     "output_type": "execute_result"
    }
   ],
   "source": [
    "n_gate_30, n_gate_40"
   ]
  },
  {
   "cell_type": "code",
   "execution_count": 16,
   "id": "1ed981d4",
   "metadata": {
    "execution": {
     "iopub.execute_input": "2023-02-26T22:50:35.413595Z",
     "iopub.status.busy": "2023-02-26T22:50:35.412267Z",
     "iopub.status.idle": "2023-02-26T22:50:35.438452Z",
     "shell.execute_reply": "2023-02-26T22:50:35.436739Z"
    },
    "papermill": {
     "duration": 0.039961,
     "end_time": "2023-02-26T22:50:35.441988",
     "exception": false,
     "start_time": "2023-02-26T22:50:35.402027",
     "status": "completed"
    },
    "tags": []
   },
   "outputs": [],
   "source": [
    "# calculate obs diff\n",
    "gate_30_ret = np.random.choice(df2.query(\"version == 'gate_30'\")['retention_1'],n_gate_30, replace=True)\n",
    "gate_40_ret = np.random.choice(df2.query(\"version == 'gate_40'\")['retention_1'],n_gate_40, replace=True)"
   ]
  },
  {
   "cell_type": "code",
   "execution_count": 17,
   "id": "f346dd67",
   "metadata": {
    "execution": {
     "iopub.execute_input": "2023-02-26T22:50:35.461888Z",
     "iopub.status.busy": "2023-02-26T22:50:35.461060Z",
     "iopub.status.idle": "2023-02-26T22:50:35.469340Z",
     "shell.execute_reply": "2023-02-26T22:50:35.468245Z"
    },
    "papermill": {
     "duration": 0.021276,
     "end_time": "2023-02-26T22:50:35.471796",
     "exception": false,
     "start_time": "2023-02-26T22:50:35.450520",
     "status": "completed"
    },
    "tags": []
   },
   "outputs": [
    {
     "data": {
      "text/plain": [
       "0.0010486435174754671"
      ]
     },
     "execution_count": 17,
     "metadata": {},
     "output_type": "execute_result"
    }
   ],
   "source": [
    "obs_diff = gate_30_ret.mean() - gate_40_ret.mean()\n",
    "obs_diff"
   ]
  },
  {
   "cell_type": "code",
   "execution_count": 18,
   "id": "625824c2",
   "metadata": {
    "execution": {
     "iopub.execute_input": "2023-02-26T22:50:35.491305Z",
     "iopub.status.busy": "2023-02-26T22:50:35.490527Z",
     "iopub.status.idle": "2023-02-26T22:53:02.286030Z",
     "shell.execute_reply": "2023-02-26T22:53:02.284545Z"
    },
    "papermill": {
     "duration": 146.809179,
     "end_time": "2023-02-26T22:53:02.289331",
     "exception": false,
     "start_time": "2023-02-26T22:50:35.480152",
     "status": "completed"
    },
    "tags": []
   },
   "outputs": [],
   "source": [
    "p_diffs = []\n",
    "size = df2.shape[0]\n",
    "for _ in range(10_000):\n",
    "    sample_df = df2.sample(size, replace=True)\n",
    "    p_gate_30 = sample_df.query(\"version == 'gate_30'\")['retention_1'].mean()\n",
    "    p_gate_40 = sample_df.query(\"version == 'gate_40'\")['retention_1'].mean()\n",
    "    p_diffs.append(p_gate_30-p_gate_40)"
   ]
  },
  {
   "cell_type": "code",
   "execution_count": 19,
   "id": "5ee5de69",
   "metadata": {
    "execution": {
     "iopub.execute_input": "2023-02-26T22:53:02.308513Z",
     "iopub.status.busy": "2023-02-26T22:53:02.307561Z",
     "iopub.status.idle": "2023-02-26T22:53:02.569842Z",
     "shell.execute_reply": "2023-02-26T22:53:02.568612Z"
    },
    "papermill": {
     "duration": 0.274337,
     "end_time": "2023-02-26T22:53:02.572253",
     "exception": false,
     "start_time": "2023-02-26T22:53:02.297916",
     "status": "completed"
    },
    "tags": []
   },
   "outputs": [
    {
     "data": {
      "image/png": "[encoded data removed]",
      "text/plain": [
       "<Figure size 640x480 with 1 Axes>"
      ]
     },
     "metadata": {},
     "output_type": "display_data"
    }
   ],
   "source": [
    "plt.hist(p_diffs)\n",
    "plt.title(\"Sample Dist. of diff in mean retention rates for day 1\")\n",
    "plt.xlabel(\"Diff in mean ret rates\")\n",
    "plt.ylabel(\"Count\")\n",
    "plt.show()"
   ]
  },
  {
   "cell_type": "code",
   "execution_count": 20,
   "id": "9a6b977a",
   "metadata": {
    "execution": {
     "iopub.execute_input": "2023-02-26T22:53:02.592528Z",
     "iopub.status.busy": "2023-02-26T22:53:02.591491Z",
     "iopub.status.idle": "2023-02-26T22:53:02.598542Z",
     "shell.execute_reply": "2023-02-26T22:53:02.597340Z"
    },
    "papermill": {
     "duration": 0.019779,
     "end_time": "2023-02-26T22:53:02.601089",
     "exception": false,
     "start_time": "2023-02-26T22:53:02.581310",
     "status": "completed"
    },
    "tags": []
   },
   "outputs": [],
   "source": [
    "null_vals = np.random.normal(0,np.array(p_diffs).std(),len(p_diffs))"
   ]
  },
  {
   "cell_type": "code",
   "execution_count": 21,
   "id": "351a6f00",
   "metadata": {
    "execution": {
     "iopub.execute_input": "2023-02-26T22:53:02.620131Z",
     "iopub.status.busy": "2023-02-26T22:53:02.619730Z",
     "iopub.status.idle": "2023-02-26T22:53:02.846960Z",
     "shell.execute_reply": "2023-02-26T22:53:02.845692Z"
    },
    "papermill": {
     "duration": 0.240012,
     "end_time": "2023-02-26T22:53:02.849566",
     "exception": false,
     "start_time": "2023-02-26T22:53:02.609554",
     "status": "completed"
    },
    "tags": []
   },
   "outputs": [
    {
     "data": {
      "image/png": "[encoded data removed]",
      "text/plain": [
       "<Figure size 640x480 with 1 Axes>"
      ]
     },
     "metadata": {},
     "output_type": "display_data"
    }
   ],
   "source": [
    "plt.hist(null_vals)\n",
    "plt.title(\"Normal Dist.\")\n",
    "plt.ylabel(\"Count\")\n",
    "plt.axvline(x=obs_diff, color=\"r\")\n",
    "plt.show()"
   ]
  },
  {
   "cell_type": "code",
   "execution_count": 22,
   "id": "ade77375",
   "metadata": {
    "execution": {
     "iopub.execute_input": "2023-02-26T22:53:02.869608Z",
     "iopub.status.busy": "2023-02-26T22:53:02.869140Z",
     "iopub.status.idle": "2023-02-26T22:53:02.876644Z",
     "shell.execute_reply": "2023-02-26T22:53:02.875499Z"
    },
    "papermill": {
     "duration": 0.020165,
     "end_time": "2023-02-26T22:53:02.879124",
     "exception": false,
     "start_time": "2023-02-26T22:53:02.858959",
     "status": "completed"
    },
    "tags": []
   },
   "outputs": [
    {
     "data": {
      "text/plain": [
       "0.3714"
      ]
     },
     "execution_count": 22,
     "metadata": {},
     "output_type": "execute_result"
    }
   ],
   "source": [
    "(null_vals>obs_diff).mean()"
   ]
  },
  {
   "cell_type": "markdown",
   "id": "4394ef62",
   "metadata": {
    "papermill": {
     "duration": 0.008614,
     "end_time": "2023-02-26T22:53:02.896482",
     "exception": false,
     "start_time": "2023-02-26T22:53:02.887868",
     "status": "completed"
    },
    "tags": []
   },
   "source": [
    "We reject $H_0$ and we are 95% confident that the gate_40 version's retention rate is significantly different than gate_30 version's retention rate."
   ]
  },
  {
   "cell_type": "code",
   "execution_count": null,
   "id": "49b80aa1",
   "metadata": {
    "papermill": {
     "duration": 0.008434,
     "end_time": "2023-02-26T22:53:02.913661",
     "exception": false,
     "start_time": "2023-02-26T22:53:02.905227",
     "status": "completed"
    },
    "tags": []
   },
   "outputs": [],
   "source": []
  }
 ],
 "metadata": {
  "kernelspec": {
   "display_name": "Python 3",
   "language": "python",
   "name": "python3"
  },
  "language_info": {
   "codemirror_mode": {
    "name": "ipython",
    "version": 3
   },
   "file_extension": ".py",
   "mimetype": "text/x-python",
   "name": "python",
   "nbconvert_exporter": "python",
   "pygments_lexer": "ipython3",
   "version": "3.7.12"
  },
  "papermill": {
   "default_parameters": {},
   "duration": 161.397393,
   "end_time": "2023-02-26T22:53:03.644889",
   "environment_variables": {},
   "exception": null,
   "input_path": "__notebook__.ipynb",
   "output_path": "__notebook__.ipynb",
   "parameters": {},
   "start_time": "2023-02-26T22:50:22.247496",
   "version": "2.4.0"
  }
 },
 "nbformat": 4,
 "nbformat_minor": 5
}
